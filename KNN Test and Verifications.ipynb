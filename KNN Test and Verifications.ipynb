{
 "cells": [
  {
   "cell_type": "code",
   "execution_count": 1,
   "metadata": {},
   "outputs": [],
   "source": [
    "import numpy as np \n",
    "import pandas as pd \n",
    "import random,math \n",
    "import matplotlib.pyplot as plt"
   ]
  },
  {
   "cell_type": "code",
   "execution_count": 3,
   "metadata": {},
   "outputs": [],
   "source": [
    "def random_point_gen(dimension): # Generating random numbers between zero and one from uniform \n",
    "     return [random.random() for _ in range(dimension)] \n",
    "def distance(a,b): \n",
    "     diff = [a_i-b_i for a_i,b_i in zip(a,b)] \n",
    "     sum_of_sqrs = sum(a_i**2 for a_i in diff) \n",
    "     return math.sqrt(sum_of_sqrs) \n",
    "# Root mean sum of squares of Euclidean distances (2-norm) between points \n",
    "\n",
    "def random_distances_comparison(dimension,number_pairs): # Calculating the distances \n",
    "     return [distance(random_point_gen(dimension),random_point_gen(dimension)) \n",
    "            for _ in range(number_pairs)] \n",
    "    \n",
    "def mean(x): \n",
    "     return sum(x) / len(x)"
   ]
  },
  {
   "cell_type": "code",
   "execution_count": 4,
   "metadata": {},
   "outputs": [],
   "source": [
    "dimensions = range(1, 401, 10)# Dimensions in range of 1 to 200 with interval of 5"
   ]
  },
  {
   "cell_type": "code",
   "execution_count": 5,
   "metadata": {},
   "outputs": [
    {
     "name": "stdout",
     "output_type": "stream",
     "text": [
      "1 0.3304377974569266\n",
      "11 1.3401740854448738\n",
      "21 1.8494625706998347\n",
      "31 2.2487295610797404\n",
      "41 2.6202602524132663\n",
      "51 2.91973469532458\n",
      "61 3.183914940287805\n",
      "71 3.434805652393278\n",
      "81 3.682643156198799\n",
      "91 3.8900260499781747\n",
      "101 4.102033469297673\n",
      "111 4.3006950280188\n",
      "121 4.478957468883705\n",
      "131 4.656919312584129\n",
      "141 4.841709683545761\n",
      "151 5.016737615045643\n",
      "161 5.172248028877949\n",
      "171 5.341617534556973\n",
      "181 5.482410105951151\n",
      "191 5.640760079699207\n",
      "201 5.786641570271148\n",
      "211 5.92098116596547\n",
      "221 6.054163900861288\n",
      "231 6.195721445814778\n",
      "241 6.336261073257347\n",
      "251 6.466224354537698\n",
      "261 6.590635333390234\n",
      "271 6.711282760397099\n",
      "281 6.835757408522824\n",
      "291 6.957750902317857\n",
      "301 7.079572983453334\n",
      "311 7.199200195552325\n",
      "321 7.305734648783318\n",
      "331 7.423066275042919\n",
      "341 7.522340445485527\n",
      "351 7.659774299500279\n",
      "361 7.746100205112718\n",
      "371 7.851900620006\n",
      "381 7.96917801271162\n",
      "391 8.074556540735285\n"
     ]
    }
   ],
   "source": [
    "avg_distances = [] \n",
    "\n",
    "dummy = np.empty((20,2)) \n",
    "dist = pd.DataFrame(dummy) \n",
    "dist.columns = [\"Dimension\",\"Avg_Distance\"] \n",
    " \n",
    "random.seed(34) \n",
    "i = 0 \n",
    "for dims in dimensions: \n",
    "    distances = random_distances_comparison(dims, 1000)   \n",
    "    avg_distances.append(mean(distances))     \n",
    "     \n",
    "    dist.loc[i,\"Dimension\"] = dims \n",
    "    dist.loc[i,\"Avg_Distance\"] = mean(distances) \n",
    "           \n",
    "    print(dims,mean(distances))\n",
    "    i = i+1"
   ]
  },
  {
   "cell_type": "code",
   "execution_count": 6,
   "metadata": {},
   "outputs": [
    {
     "data": {
      "image/png": "[encoded data removed]",
      "text/plain": [
       "<Figure size 432x288 with 1 Axes>"
      ]
     },
     "metadata": {
      "needs_background": "light"
     },
     "output_type": "display_data"
    }
   ],
   "source": [
    "plt.plot(dist[\"Dimension\"],dist[\"Avg_Distance\"])\n",
    "plt.title(\"Average Distance with Number of Dimensions for 1k Observations\")\n",
    "plt.xlabel('Dimensions') \n",
    "plt.ylabel('Avg. Distance') \n",
    "plt.legend(loc='best') \n",
    "plt.show();"
   ]
  }
 ],
 "metadata": {
  "kernelspec": {
   "display_name": "Python 3",
   "language": "python",
   "name": "python3"
  },
  "language_info": {
   "codemirror_mode": {
    "name": "ipython",
    "version": 3
   },
   "file_extension": ".py",
   "mimetype": "text/x-python",
   "name": "python",
   "nbconvert_exporter": "python",
   "pygments_lexer": "ipython3",
   "version": "3.7.1"
  }
 },
 "nbformat": 4,
 "nbformat_minor": 2
}
