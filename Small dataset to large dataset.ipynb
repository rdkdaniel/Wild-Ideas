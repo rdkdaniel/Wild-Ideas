{
 "cells": [
  {
   "cell_type": "code",
   "execution_count": 4,
   "metadata": {},
   "outputs": [],
   "source": [
    "import unicodecsv\n",
    "import random\n",
    "import operator\n",
    "import math"
   ]
  },
  {
   "cell_type": "code",
   "execution_count": 6,
   "metadata": {},
   "outputs": [],
   "source": [
    "def getdata(filename):\n",
    "    with open(filename,'rb') as f:\n",
    "        reader = unicodecsv.reader(f)\n",
    "        return list(reader)\n",
    "    #getting data. The dummy data used  (ionosphere database by John Hopkins University)\n",
    "    #6 attributes and 30 records\n",
    "    #5 attributes are continuous variables values -1 to +1 i.e, [-1,+1]. \n",
    "    #Last(6th) attribute is a categorical variable with values as “g”(good) or “b”(bad)"
   ]
  },
  {
   "cell_type": "code",
   "execution_count": 27,
   "metadata": {},
   "outputs": [],
   "source": [
    "def shuffle(i_data):\n",
    " random.shuffle(i_data)\n",
    " train_data = i_data[:int(0.7*30)]\n",
    " test_data = i_data[int(0.3*30):]\n",
    " return train_data, test_data\n",
    "#Splitting data for training and testing datasets randomnly"
   ]
  },
  {
   "cell_type": "code",
   "execution_count": 17,
   "metadata": {},
   "outputs": [],
   "source": [
    "def euclideanDist(x, xi):\n",
    "    d = 0.0\n",
    "    for i in range(len(x)-1):\n",
    "        d += pow((float(x[i])-float(xi[i])),2)  #euclidean distance\n",
    "    d = math.sqrt(d)\n",
    "    return d\n",
    "#defining the euclidean distance"
   ]
  },
  {
   "cell_type": "code",
   "execution_count": 19,
   "metadata": {},
   "outputs": [],
   "source": [
    "def knn_predict(test_data, train_data, k_value):\n",
    "    for i in test_data:\n",
    "        eu_Distance =[]\n",
    "        knn = []\n",
    "        good = 0\n",
    " \n",
    "        bad = 0\n",
    "        for j in train_data:\n",
    "            eu_dist = euclideanDist(i, j)\n",
    "            eu_Distance.append((j[5], eu_dist))\n",
    "            eu_Distance.sort(key = operator.itemgetter(1))\n",
    "            knn = eu_Distance[:k_value]\n",
    "            for k in knn:\n",
    "                if k[0] =='g':\n",
    "                    good += 1\n",
    "                else:\n",
    "                    bad +=1\n",
    "        if good > bad:\n",
    "            i.append('g')\n",
    "        elif good < bad:\n",
    "            i.append('b')\n",
    "        else:\n",
    "            i.append('NaN')\n",
    "    #The KNN algorithm "
   ]
  },
  {
   "cell_type": "code",
   "execution_count": 43,
   "metadata": {},
   "outputs": [],
   "source": [
    "def getAccuracy(testSet, predictions):\n",
    "    correct = 0\n",
    "    for x in range(len(testSet)):\n",
    "        if testSet[x][-1] is predictions[x]:\n",
    "            correct += 1\n",
    "    return (correct/float(len(testSet))) * 100.0 \n",
    "#computing the accuracy of the model"
   ]
  },
  {
   "cell_type": "code",
   "execution_count": 44,
   "metadata": {},
   "outputs": [
    {
     "name": "stdout",
     "output_type": "stream",
     "text": [
      "66.66666666666666\n"
     ]
    }
   ],
   "source": [
    "testSet = [[1,1,1,'a'], [2,2,2,'a'], [3,3,3,'b']]\n",
    "predictions = ['a', 'a', 'a']\n",
    "accuracy = getAccuracy(testSet, predictions)\n",
    "print(accuracy) \n",
    "#Print results"
   ]
  }
 ],
 "metadata": {
  "kernelspec": {
   "display_name": "Python 3",
   "language": "python",
   "name": "python3"
  },
  "language_info": {
   "codemirror_mode": {
    "name": "ipython",
    "version": 3
   },
   "file_extension": ".py",
   "mimetype": "text/x-python",
   "name": "python",
   "nbconvert_exporter": "python",
   "pygments_lexer": "ipython3",
   "version": "3.7.1"
  }
 },
 "nbformat": 4,
 "nbformat_minor": 2
}
